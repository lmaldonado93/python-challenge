{
 "cells": [
  {
   "cell_type": "code",
   "execution_count": 38,
   "metadata": {},
   "outputs": [
    {
     "name": "stdout",
     "output_type": "stream",
     "text": [
      "Financial Analysis\n",
      "---------------------\n",
      "Total Months:  86\n",
      "Total:  $38382578\n",
      "Average Change:  $-2315.12\n",
      "Greatest Increase in Profits: Feb-2012 ($1926159)\n",
      "Greatest Decrease in Profits: Sep-2013 ($-2196167)\n"
     ]
    }
   ],
   "source": [
    "import os\n",
    "import csv\n",
    "\n",
    "csvpath=os.path.join(\"Resources\", \"budget_data.csv\")\n",
    "\n",
    "total_months = []\n",
    "net_total = []\n",
    "Average_Change_Monthly = []\n",
    "\n",
    "with open(csvpath, newline='') as csvfile:\n",
    "    budget=csv.reader(csvfile, delimiter=',')\n",
    "    header = next(budget)\n",
    "    for row in budget:\n",
    "\n",
    "        total_months.append(row[0])\n",
    "        net_total.append(int(row[1]))\n",
    "    sum_total_months = len(total_months)\n",
    "    sum_net_total = sum(net_total)\n",
    "    \n",
    "    for i in range(len(net_total)-1):\n",
    "        Average_Change_Monthly.append(net_total[i+1]-net_total[i])\n",
    "    overall_avg_change_monthly = round(sum(Average_Change_Monthly)/len(Average_Change_Monthly),2)\n",
    "\n",
    "greatest_value = max(Average_Change_Monthly)\n",
    "least_value  = min(Average_Change_Monthly)\n",
    "\n",
    "greatest_value_monthly = Average_Change_Monthly.index(max(Average_Change_Monthly))+1\n",
    "least_value_monthly = Average_Change_Monthly.index(min(Average_Change_Monthly))+1  \n",
    "\n",
    "print(\"Financial Analysis\")\n",
    "print(\"---------------------\")\n",
    "print(f\"Total Months:  {sum_total_months}\")\n",
    "print(f\"Total:  ${sum_net_total}\")\n",
    "print(f\"Average Change:  ${overall_avg_change_monthly}\")\n",
    "print(f\"Greatest Increase in Profits: {total_months[greatest_value_monthly]} (${(str(greatest_value))})\")\n",
    "print(f\"Greatest Decrease in Profits: {total_months[least_value_monthly]} (${(str(least_value))})\")  \n",
    "\n",
    "output_file = os.path.join(\"Financial_Analysis.txt\")\n",
    "\n",
    "with open(output_file, \"w\", newline=\"\") as file:\n",
    "    writer = open(output_file, 'w')\n",
    "\n",
    "    writer.write(\"Financial Analysis\\n\")\n",
    "    \n",
    "    writer.write(\"---------------------\\n\")\n",
    "   \n",
    "    writer.write(f\"Total Months:  {sum_total_months}\\n\")\n",
    "    \n",
    "    writer.write(f\"Total:  ${sum_net_total}\\n\")\n",
    "   \n",
    "    writer.write(f\"Average Change:  ${overall_avg_change_monthly}\\n\")\n",
    "    \n",
    "    writer.write(f\"Greatest Increase in Profits: {total_months[greatest_value_monthly]} (${(str(greatest_value))})\\n\")\n",
    "    \n",
    "    writer.write(f\"Greatest Decrease in Profits: {total_months[least_value_monthly]} (${(str(least_value))})\\n\") "
   ]
  },
  {
   "cell_type": "code",
   "execution_count": null,
   "metadata": {},
   "outputs": [],
   "source": []
  }
 ],
 "metadata": {
  "kernelspec": {
   "display_name": "Python 3",
   "language": "python",
   "name": "python3"
  },
  "language_info": {
   "codemirror_mode": {
    "name": "ipython",
    "version": 3
   },
   "file_extension": ".py",
   "mimetype": "text/x-python",
   "name": "python",
   "nbconvert_exporter": "python",
   "pygments_lexer": "ipython3",
   "version": "3.7.3"
  }
 },
 "nbformat": 4,
 "nbformat_minor": 2
}
